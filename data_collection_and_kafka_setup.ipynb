{
 "cells": [
  {
   "cell_type": "code",
   "execution_count": 1,
   "metadata": {},
   "outputs": [
    {
     "name": "stdout",
     "output_type": "stream",
     "text": [
      "Collecting kafka-python\n",
      "  Downloading kafka_python-2.0.2-py2.py3-none-any.whl.metadata (7.8 kB)\n",
      "Downloading kafka_python-2.0.2-py2.py3-none-any.whl (246 kB)\n",
      "   ---------------------------------------- 0.0/246.5 kB ? eta -:--:--\n",
      "   ---------------------------------------- 0.0/246.5 kB ? eta -:--:--\n",
      "   ---------------------------------------- 0.0/246.5 kB ? eta -:--:--\n",
      "   ---------------------------------------- 0.0/246.5 kB ? eta -:--:--\n",
      "   ---------------------------------------- 0.0/246.5 kB ? eta -:--:--\n",
      "   ---------------------------------------- 0.0/246.5 kB ? eta -:--:--\n",
      "   ---------------------------------------- 0.0/246.5 kB ? eta -:--:--\n",
      "   ---------------------------------------- 0.0/246.5 kB ? eta -:--:--\n",
      "   ---------------------------------------- 0.0/246.5 kB ? eta -:--:--\n",
      "   ---------------------------------------- 0.0/246.5 kB ? eta -:--:--\n",
      "   ---------------------------------------- 0.0/246.5 kB ? eta -:--:--\n",
      "   --------- ------------------------------ 61.4/246.5 kB 3.2 MB/s eta 0:00:01\n",
      "   --------- ------------------------------ 61.4/246.5 kB 3.2 MB/s eta 0:00:01\n",
      "   --------- ------------------------------ 61.4/246.5 kB 3.2 MB/s eta 0:00:01\n",
      "   --------- ------------------------------ 61.4/246.5 kB 3.2 MB/s eta 0:00:01\n",
      "   --------- ------------------------------ 61.4/246.5 kB 3.2 MB/s eta 0:00:01\n",
      "   --------- ------------------------------ 61.4/246.5 kB 3.2 MB/s eta 0:00:01\n",
      "   ----------- --------------------------- 71.7/246.5 kB 187.3 kB/s eta 0:00:01\n",
      "   ----------- --------------------------- 71.7/246.5 kB 187.3 kB/s eta 0:00:01\n",
      "   ----------- --------------------------- 71.7/246.5 kB 187.3 kB/s eta 0:00:01\n",
      "   -------------- ------------------------ 92.2/246.5 kB 180.8 kB/s eta 0:00:01\n",
      "   -------------- ------------------------ 92.2/246.5 kB 180.8 kB/s eta 0:00:01\n",
      "   ----------------- -------------------- 112.6/246.5 kB 182.2 kB/s eta 0:00:01\n",
      "   ----------------- -------------------- 112.6/246.5 kB 182.2 kB/s eta 0:00:01\n",
      "   ----------------- -------------------- 112.6/246.5 kB 182.2 kB/s eta 0:00:01\n",
      "   ------------------ ------------------- 122.9/246.5 kB 156.7 kB/s eta 0:00:01\n",
      "   ------------------ ------------------- 122.9/246.5 kB 156.7 kB/s eta 0:00:01\n",
      "   ------------------ ------------------- 122.9/246.5 kB 156.7 kB/s eta 0:00:01\n",
      "   ----------------------- -------------- 153.6/246.5 kB 160.9 kB/s eta 0:00:01\n",
      "   ----------------------- -------------- 153.6/246.5 kB 160.9 kB/s eta 0:00:01\n",
      "   ----------------------- -------------- 153.6/246.5 kB 160.9 kB/s eta 0:00:01\n",
      "   ----------------------- -------------- 153.6/246.5 kB 160.9 kB/s eta 0:00:01\n",
      "   ----------------------- -------------- 153.6/246.5 kB 160.9 kB/s eta 0:00:01\n",
      "   -------------------------- ----------- 174.1/246.5 kB 145.6 kB/s eta 0:00:01\n",
      "   -------------------------- ----------- 174.1/246.5 kB 145.6 kB/s eta 0:00:01\n",
      "   -------------------------- ----------- 174.1/246.5 kB 145.6 kB/s eta 0:00:01\n",
      "   ----------------------------- -------- 194.6/246.5 kB 145.6 kB/s eta 0:00:01\n",
      "   ----------------------------- -------- 194.6/246.5 kB 145.6 kB/s eta 0:00:01\n",
      "   ----------------------------- -------- 194.6/246.5 kB 145.6 kB/s eta 0:00:01\n",
      "   ----------------------------- -------- 194.6/246.5 kB 145.6 kB/s eta 0:00:01\n",
      "   ----------------------------- -------- 194.6/246.5 kB 145.6 kB/s eta 0:00:01\n",
      "   ----------------------------- -------- 194.6/246.5 kB 145.6 kB/s eta 0:00:01\n",
      "   -------------------------------------- 246.5/246.5 kB 149.7 kB/s eta 0:00:00\n",
      "Installing collected packages: kafka-python\n",
      "Successfully installed kafka-python-2.0.2\n"
     ]
    }
   ],
   "source": [
    "# Install Kafka and required dependencies\n",
    "!pip install kafka-python\n"
   ]
  },
  {
   "cell_type": "code",
   "execution_count": 2,
   "metadata": {},
   "outputs": [],
   "source": [
    "# Kafka Producer and Consumer setup\n",
    "from kafka import KafkaProducer, KafkaConsumer\n",
    "import json\n",
    "import random\n",
    "import time"
   ]
  },
  {
   "cell_type": "code",
   "execution_count": 3,
   "metadata": {},
   "outputs": [],
   "source": [
    "# Kafka producer setup\n",
    "def create_kafka_producer():\n",
    "    producer = KafkaProducer(\n",
    "        bootstrap_servers='localhost:9092',  # Kafka broker address\n",
    "        value_serializer=lambda v: json.dumps(v).encode('utf-8')  # Serialize JSON\n",
    "    )\n",
    "    return producer"
   ]
  },
  {
   "cell_type": "code",
   "execution_count": 4,
   "metadata": {},
   "outputs": [],
   "source": [
    "# Simulate transaction data stream\n",
    "def simulate_transaction_data():\n",
    "    users = ['user_1', 'user_2', 'user_3', 'user_4']\n",
    "    locations = ['NY', 'LA', 'SF', 'TX']\n",
    "    amounts = [50, 100, 500, 1000, 1500, 2000]\n",
    "\n",
    "    transaction = {\n",
    "        'user_id': random.choice(users),\n",
    "        'location': random.choice(locations),\n",
    "        'amount': random.choice(amounts),\n",
    "        'timestamp': time.time()\n",
    "    }\n",
    "    \n",
    "    return transaction"
   ]
  },
  {
   "cell_type": "code",
   "execution_count": 6,
   "metadata": {},
   "outputs": [],
   "source": [
    "# Send data to Kafka\n",
    "def send_data_to_kafka(producer):\n",
    "    topic = 'transactions'\n",
    "    while True:\n",
    "        transaction = simulate_transaction_data()\n",
    "        producer.send(topic, transaction)\n",
    "        print(f\"Sent transaction: {transaction}\")\n",
    "        time.sleep(1)  # simulate transaction every second\n"
   ]
  },
  {
   "cell_type": "code",
   "execution_count": 7,
   "metadata": {},
   "outputs": [],
   "source": [
    "# Kafka consumer setup\n",
    "def create_kafka_consumer():\n",
    "    consumer = KafkaConsumer(\n",
    "        'transactions',\n",
    "        bootstrap_servers='localhost:9092',\n",
    "        value_deserializer=lambda x: json.loads(x.decode('utf-8'))\n",
    "    )\n",
    "    return consumer"
   ]
  },
  {
   "cell_type": "code",
   "execution_count": null,
   "metadata": {},
   "outputs": [],
   "source": [
    "# Read data from Kafka\n",
    "def read_data_from_kafka(consumer):\n",
    "    for message in consumer:\n",
    "        print(f\"Received message: {message.value}\")"
   ]
  },
  {
   "cell_type": "code",
   "execution_count": 8,
   "metadata": {},
   "outputs": [
    {
     "ename": "NoBrokersAvailable",
     "evalue": "NoBrokersAvailable",
     "output_type": "error",
     "traceback": [
      "\u001b[1;31m---------------------------------------------------------------------------\u001b[0m",
      "\u001b[1;31mNoBrokersAvailable\u001b[0m                        Traceback (most recent call last)",
      "Cell \u001b[1;32mIn[8], line 2\u001b[0m\n\u001b[0;32m      1\u001b[0m \u001b[38;5;66;03m# Initialize producer and consumer\u001b[39;00m\n\u001b[1;32m----> 2\u001b[0m producer \u001b[38;5;241m=\u001b[39m create_kafka_producer()\n\u001b[0;32m      3\u001b[0m consumer \u001b[38;5;241m=\u001b[39m create_kafka_consumer()\n",
      "Cell \u001b[1;32mIn[3], line 3\u001b[0m, in \u001b[0;36mcreate_kafka_producer\u001b[1;34m()\u001b[0m\n\u001b[0;32m      2\u001b[0m \u001b[38;5;28;01mdef\u001b[39;00m \u001b[38;5;21mcreate_kafka_producer\u001b[39m():\n\u001b[1;32m----> 3\u001b[0m     producer \u001b[38;5;241m=\u001b[39m KafkaProducer(\n\u001b[0;32m      4\u001b[0m         bootstrap_servers\u001b[38;5;241m=\u001b[39m\u001b[38;5;124m'\u001b[39m\u001b[38;5;124mlocalhost:9092\u001b[39m\u001b[38;5;124m'\u001b[39m,  \u001b[38;5;66;03m# Kafka broker address\u001b[39;00m\n\u001b[0;32m      5\u001b[0m         value_serializer\u001b[38;5;241m=\u001b[39m\u001b[38;5;28;01mlambda\u001b[39;00m v: json\u001b[38;5;241m.\u001b[39mdumps(v)\u001b[38;5;241m.\u001b[39mencode(\u001b[38;5;124m'\u001b[39m\u001b[38;5;124mutf-8\u001b[39m\u001b[38;5;124m'\u001b[39m)  \u001b[38;5;66;03m# Serialize JSON\u001b[39;00m\n\u001b[0;32m      6\u001b[0m     )\n\u001b[0;32m      7\u001b[0m     \u001b[38;5;28;01mreturn\u001b[39;00m producer\n",
      "File \u001b[1;32mc:\\Users\\ADMIN\\anaconda3\\Lib\\site-packages\\kafka\\producer\\kafka.py:381\u001b[0m, in \u001b[0;36mKafkaProducer.__init__\u001b[1;34m(self, **configs)\u001b[0m\n\u001b[0;32m    378\u001b[0m reporters \u001b[38;5;241m=\u001b[39m [reporter() \u001b[38;5;28;01mfor\u001b[39;00m reporter \u001b[38;5;129;01min\u001b[39;00m \u001b[38;5;28mself\u001b[39m\u001b[38;5;241m.\u001b[39mconfig[\u001b[38;5;124m'\u001b[39m\u001b[38;5;124mmetric_reporters\u001b[39m\u001b[38;5;124m'\u001b[39m]]\n\u001b[0;32m    379\u001b[0m \u001b[38;5;28mself\u001b[39m\u001b[38;5;241m.\u001b[39m_metrics \u001b[38;5;241m=\u001b[39m Metrics(metric_config, reporters)\n\u001b[1;32m--> 381\u001b[0m client \u001b[38;5;241m=\u001b[39m KafkaClient(metrics\u001b[38;5;241m=\u001b[39m\u001b[38;5;28mself\u001b[39m\u001b[38;5;241m.\u001b[39m_metrics, metric_group_prefix\u001b[38;5;241m=\u001b[39m\u001b[38;5;124m'\u001b[39m\u001b[38;5;124mproducer\u001b[39m\u001b[38;5;124m'\u001b[39m,\n\u001b[0;32m    382\u001b[0m                      wakeup_timeout_ms\u001b[38;5;241m=\u001b[39m\u001b[38;5;28mself\u001b[39m\u001b[38;5;241m.\u001b[39mconfig[\u001b[38;5;124m'\u001b[39m\u001b[38;5;124mmax_block_ms\u001b[39m\u001b[38;5;124m'\u001b[39m],\n\u001b[0;32m    383\u001b[0m                      \u001b[38;5;241m*\u001b[39m\u001b[38;5;241m*\u001b[39m\u001b[38;5;28mself\u001b[39m\u001b[38;5;241m.\u001b[39mconfig)\n\u001b[0;32m    385\u001b[0m \u001b[38;5;66;03m# Get auto-discovered version from client if necessary\u001b[39;00m\n\u001b[0;32m    386\u001b[0m \u001b[38;5;28;01mif\u001b[39;00m \u001b[38;5;28mself\u001b[39m\u001b[38;5;241m.\u001b[39mconfig[\u001b[38;5;124m'\u001b[39m\u001b[38;5;124mapi_version\u001b[39m\u001b[38;5;124m'\u001b[39m] \u001b[38;5;129;01mis\u001b[39;00m \u001b[38;5;28;01mNone\u001b[39;00m:\n",
      "File \u001b[1;32mc:\\Users\\ADMIN\\anaconda3\\Lib\\site-packages\\kafka\\client_async.py:244\u001b[0m, in \u001b[0;36mKafkaClient.__init__\u001b[1;34m(self, **configs)\u001b[0m\n\u001b[0;32m    242\u001b[0m \u001b[38;5;28;01mif\u001b[39;00m \u001b[38;5;28mself\u001b[39m\u001b[38;5;241m.\u001b[39mconfig[\u001b[38;5;124m'\u001b[39m\u001b[38;5;124mapi_version\u001b[39m\u001b[38;5;124m'\u001b[39m] \u001b[38;5;129;01mis\u001b[39;00m \u001b[38;5;28;01mNone\u001b[39;00m:\n\u001b[0;32m    243\u001b[0m     check_timeout \u001b[38;5;241m=\u001b[39m \u001b[38;5;28mself\u001b[39m\u001b[38;5;241m.\u001b[39mconfig[\u001b[38;5;124m'\u001b[39m\u001b[38;5;124mapi_version_auto_timeout_ms\u001b[39m\u001b[38;5;124m'\u001b[39m] \u001b[38;5;241m/\u001b[39m \u001b[38;5;241m1000\u001b[39m\n\u001b[1;32m--> 244\u001b[0m     \u001b[38;5;28mself\u001b[39m\u001b[38;5;241m.\u001b[39mconfig[\u001b[38;5;124m'\u001b[39m\u001b[38;5;124mapi_version\u001b[39m\u001b[38;5;124m'\u001b[39m] \u001b[38;5;241m=\u001b[39m \u001b[38;5;28mself\u001b[39m\u001b[38;5;241m.\u001b[39mcheck_version(timeout\u001b[38;5;241m=\u001b[39mcheck_timeout)\n",
      "File \u001b[1;32mc:\\Users\\ADMIN\\anaconda3\\Lib\\site-packages\\kafka\\client_async.py:927\u001b[0m, in \u001b[0;36mKafkaClient.check_version\u001b[1;34m(self, node_id, timeout, strict)\u001b[0m\n\u001b[0;32m    924\u001b[0m \u001b[38;5;66;03m# Timeout\u001b[39;00m\n\u001b[0;32m    925\u001b[0m \u001b[38;5;28;01melse\u001b[39;00m:\n\u001b[0;32m    926\u001b[0m     \u001b[38;5;28mself\u001b[39m\u001b[38;5;241m.\u001b[39m_lock\u001b[38;5;241m.\u001b[39mrelease()\n\u001b[1;32m--> 927\u001b[0m     \u001b[38;5;28;01mraise\u001b[39;00m Errors\u001b[38;5;241m.\u001b[39mNoBrokersAvailable()\n",
      "\u001b[1;31mNoBrokersAvailable\u001b[0m: NoBrokersAvailable"
     ]
    }
   ],
   "source": [
    "# Initialize producer and consumer\n",
    "producer = create_kafka_producer()\n",
    "consumer = create_kafka_consumer()\n",
    "\n",
    "# Send and receive data (Run in separate terminal for producer)\n",
    "# send_data_to_kafka(producer)\n",
    "\n",
    "# Read data (Run in separate terminal for consumer)\n",
    "# read_data_from_kafka(consumer)\n"
   ]
  }
 ],
 "metadata": {
  "kernelspec": {
   "display_name": "base",
   "language": "python",
   "name": "python3"
  },
  "language_info": {
   "codemirror_mode": {
    "name": "ipython",
    "version": 3
   },
   "file_extension": ".py",
   "mimetype": "text/x-python",
   "name": "python",
   "nbconvert_exporter": "python",
   "pygments_lexer": "ipython3",
   "version": "3.11.7"
  }
 },
 "nbformat": 4,
 "nbformat_minor": 2
}
